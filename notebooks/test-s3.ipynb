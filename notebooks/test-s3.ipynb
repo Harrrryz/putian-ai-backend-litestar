{
 "cells": [
  {
   "cell_type": "code",
   "execution_count": null,
   "id": "7af5c3d9",
   "metadata": {},
   "outputs": [
    {
     "name": "stdout",
     "output_type": "stream",
     "text": [
      "S3_ACCESS_KEY: cbf64dda73abdda7eb5c4f7bc009355a\n",
      "S3_SECRET_KEY: d9819b9b14bb5865648770e63dda0034827d62ff6befe2d92a364376c220b495\n",
      "S3_BUCKET_NAME: react-native-todo\n",
      "S3_ENDPOINT_URL: https://d3ef26f2735a180af5cfd547369b3a42.r2.cloudflarestorage.com\n",
      "S3_REGION: WNAM\n",
      "File emoji1.png uploaded successfully to react-native-todo.\n"
     ]
    }
   ],
   "source": [
    "import boto3\n",
    "from dotenv import load_dotenv\n",
    "import os\n",
    "\n",
    "# Load environment variables from .env file\n",
    "load_dotenv(\".env\", override=True)\n",
    "S3_ACCESS_KEY = os.getenv(\"S3_ACCESS_KEY\")\n",
    "S3_SECRET_KEY = os.getenv(\"S3_SECRET_KEY\")\n",
    "S3_BUCKET_NAME = os.getenv(\"S3_BUCKET_NAME\")\n",
    "S3_ENDPOINT_URL = os.getenv(\"S3_ENDPOINT_URL\")\n",
    "S3_REGION = os.getenv(\"S3_REGION\")\n",
    "\n",
    "\n",
    "client = boto3.client('s3',\n",
    "                      endpoint_url=S3_ENDPOINT_URL,\n",
    "                      aws_access_key_id=S3_ACCESS_KEY,\n",
    "                      aws_secret_access_key=S3_SECRET_KEY,\n",
    "                      region_name=S3_REGION\n",
    "                      )\n",
    "\n",
    "file_path = \"C:/Users/harry/code/StickerSmash/assets/images/emoji1.png\"\n",
    "\n",
    "file_name = os.path.basename(file_path)\n",
    "\n",
    "try:\n",
    "    with open(file_path, \"rb\") as file_data:\n",
    "        client.upload_fileobj(file_data, S3_BUCKET_NAME, file_name)\n",
    "    print(f\"File {file_name} uploaded successfully to {S3_BUCKET_NAME}.\")\n",
    "except Exception as e:\n",
    "    print(f\"Failed to upload file {file_name} to {S3_BUCKET_NAME}. Error: {e}\")\n"
   ]
  },
  {
   "cell_type": "code",
   "execution_count": null,
   "id": "3170c451",
   "metadata": {},
   "outputs": [
    {
     "name": "stdout",
     "output_type": "stream",
     "text": [
      "Object Information: {'ResponseMetadata': {'HTTPStatusCode': 200, 'HTTPHeaders': {'date': 'Fri, 27 Jun 2025 08:54:44 GMT', 'content-type': 'image/png', 'content-length': '60102', 'connection': 'keep-alive', 'accept-ranges': 'bytes', 'content-encoding': 'aws-chunked', 'etag': '\"be9751678c0b3f9c6bf55f60de815d30\"', 'last-modified': 'Fri, 27 Jun 2025 08:52:18 GMT', 'vary': 'Accept-Encoding', 'server': 'cloudflare', 'cf-ray': '9563b8af6fdffb30-SJC'}, 'RetryAttempts': 0}, 'AcceptRanges': 'bytes', 'LastModified': datetime.datetime(2025, 6, 27, 8, 52, 18, tzinfo=tzutc()), 'ContentLength': 60102, 'ETag': '\"be9751678c0b3f9c6bf55f60de815d30\"', 'ContentEncoding': 'aws-chunked', 'ContentType': 'image/png', 'Metadata': {}}\n"
     ]
    },
    {
     "ename": "",
     "evalue": "",
     "output_type": "error",
     "traceback": [
      "\u001b[1;31mThe Kernel crashed while executing code in the current cell or a previous cell. \n",
      "\u001b[1;31mPlease review the code in the cell(s) to identify a possible cause of the failure. \n",
      "\u001b[1;31mClick <a href='https://aka.ms/vscodeJupyterKernelCrash'>here</a> for more info. \n",
      "\u001b[1;31mView Jupyter <a href='command:jupyter.viewOutput'>log</a> for further details."
     ]
    }
   ],
   "source": [
    "object_information = client.head_object(Bucket=S3_BUCKET_NAME, Key=file_name)\n",
    "print(f\"Object Information: {object_information}\")\n"
   ]
  }
 ],
 "metadata": {
  "kernelspec": {
   "display_name": ".venv",
   "language": "python",
   "name": "python3"
  },
  "language_info": {
   "codemirror_mode": {
    "name": "ipython",
    "version": 3
   },
   "file_extension": ".py",
   "mimetype": "text/x-python",
   "name": "python",
   "nbconvert_exporter": "python",
   "pygments_lexer": "ipython3",
   "version": "3.12.3"
  }
 },
 "nbformat": 4,
 "nbformat_minor": 5
}
